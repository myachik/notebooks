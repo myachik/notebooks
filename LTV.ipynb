{
 "cells": [
  {
   "cell_type": "markdown",
   "metadata": {},
   "source": [
    "# LTV"
   ]
  },
  {
   "cell_type": "markdown",
   "metadata": {},
   "source": [
    "LTV (lifetime value) - прибыль, которую в среднем принесёт пользователь за время взаимодействия с сервисом.\n",
    "Расчёт LTV зависит от модели, которая описывает поведение пользователей."
   ]
  },
  {
   "cell_type": "markdown",
   "metadata": {},
   "source": [
    "## Модель для сервисов работающих по подписке"
   ]
  },
  {
   "cell_type": "markdown",
   "metadata": {},
   "source": [
    "Например, для сервисов с подпиской эта модель может быть такой. Пользователь оформляет подписку с величиной платежа $F$ и каждый месяц либо продолжает ей пользоваться, либо отменяет с вероятностью $p$ (эта вероятность называется оттоком или коэффициентом оттока). Тогда (c учётом ряда допущений) LTV можно вычислить как произведение среднего платёжа на среднее время подписки - $\\frac{1}{p} $ :\n",
    "$$ LTV = \\frac{{average\\_payment}}{p} $$\n",
    "\n",
    "Проверим, как ведёт себя эта оценка на практике, сгенерировав синтетические данные о дате и величине платежа."
   ]
  },
  {
   "cell_type": "code",
   "execution_count": 1,
   "metadata": {},
   "outputs": [],
   "source": [
    "import numpy as np\n",
    "import pandas as pd\n",
    "import datetime\n",
    "import hashlib\n",
    "\n",
    "np.random.seed(0)\n",
    "\n",
    "# число пользователей\n",
    "N = 10000 \n",
    "\n",
    "# величина платежа для разных уровней подписки\n",
    "grades = np.array([10, 20, 50, 100]) \n",
    "\n",
    "# отток\n",
    "p = 0.05 \n",
    "\n",
    "payments = grades[np.random.randint(4, size=(N,))] #случайным образом назначаем пользователям уровни подписки\n",
    "months = np.random.geometric(p, size=(N,))         # и длительность взаимодействия в месяцах\n",
    "\n",
    "\n",
    "# сгенерируем псевдослучайные e-mail для идентификации пользователей в данных\n",
    "def get_email(i):\n",
    "    hash_ = hashlib.sha256(str(i).encode('utf-8')).hexdigest()[:10]\n",
    "    return f\"{hash_}@example.com\"\n",
    "\n",
    "def get_payment_dates(i, months_with_sub):\n",
    "    def next_month(date):\n",
    "        try:\n",
    "            return datetime.date(date.year, date.month+1, date.day)\n",
    "        except ValueError:\n",
    "            return datetime.date(date.year+1, 1, date.day)\n",
    "    date = datetime.date(2020, 10, i%20+1)\n",
    "    dates = [date]\n",
    "    for j in range(months_with_sub-1):\n",
    "        date = next_month(date)\n",
    "        dates.append(date)\n",
    "    return dates\n",
    "\n",
    "data = []\n",
    "for i, payment, months_with_sub in zip(range(N), payments, months):\n",
    "    data.extend(list(zip([get_email(i)]*months_with_sub, get_payment_dates(i, months_with_sub), [payment] * months_with_sub)))\n",
    "\n",
    "dataframe = pd.DataFrame(data, columns=['email', 'payment_date', 'payment_value'])"
   ]
  },
  {
   "cell_type": "markdown",
   "metadata": {},
   "source": [
    "Получаем следующую таблицу."
   ]
  },
  {
   "cell_type": "code",
   "execution_count": 2,
   "metadata": {},
   "outputs": [
    {
     "data": {
      "text/html": [
       "<div>\n",
       "<style scoped>\n",
       "    .dataframe tbody tr th:only-of-type {\n",
       "        vertical-align: middle;\n",
       "    }\n",
       "\n",
       "    .dataframe tbody tr th {\n",
       "        vertical-align: top;\n",
       "    }\n",
       "\n",
       "    .dataframe thead th {\n",
       "        text-align: right;\n",
       "    }\n",
       "</style>\n",
       "<table border=\"1\" class=\"dataframe\">\n",
       "  <thead>\n",
       "    <tr style=\"text-align: right;\">\n",
       "      <th></th>\n",
       "      <th>email</th>\n",
       "      <th>payment_date</th>\n",
       "      <th>payment_value</th>\n",
       "    </tr>\n",
       "  </thead>\n",
       "  <tbody>\n",
       "    <tr>\n",
       "      <th>0</th>\n",
       "      <td>5feceb66ff@example.com</td>\n",
       "      <td>2020-10-01</td>\n",
       "      <td>10</td>\n",
       "    </tr>\n",
       "    <tr>\n",
       "      <th>1</th>\n",
       "      <td>5feceb66ff@example.com</td>\n",
       "      <td>2020-11-01</td>\n",
       "      <td>10</td>\n",
       "    </tr>\n",
       "    <tr>\n",
       "      <th>2</th>\n",
       "      <td>5feceb66ff@example.com</td>\n",
       "      <td>2020-12-01</td>\n",
       "      <td>10</td>\n",
       "    </tr>\n",
       "    <tr>\n",
       "      <th>3</th>\n",
       "      <td>5feceb66ff@example.com</td>\n",
       "      <td>2021-01-01</td>\n",
       "      <td>10</td>\n",
       "    </tr>\n",
       "    <tr>\n",
       "      <th>4</th>\n",
       "      <td>5feceb66ff@example.com</td>\n",
       "      <td>2021-02-01</td>\n",
       "      <td>10</td>\n",
       "    </tr>\n",
       "    <tr>\n",
       "      <th>...</th>\n",
       "      <td>...</td>\n",
       "      <td>...</td>\n",
       "      <td>...</td>\n",
       "    </tr>\n",
       "    <tr>\n",
       "      <th>195439</th>\n",
       "      <td>9daf56fbee@example.com</td>\n",
       "      <td>2021-06-19</td>\n",
       "      <td>100</td>\n",
       "    </tr>\n",
       "    <tr>\n",
       "      <th>195440</th>\n",
       "      <td>9daf56fbee@example.com</td>\n",
       "      <td>2021-07-19</td>\n",
       "      <td>100</td>\n",
       "    </tr>\n",
       "    <tr>\n",
       "      <th>195441</th>\n",
       "      <td>888df25ae3@example.com</td>\n",
       "      <td>2020-10-20</td>\n",
       "      <td>10</td>\n",
       "    </tr>\n",
       "    <tr>\n",
       "      <th>195442</th>\n",
       "      <td>888df25ae3@example.com</td>\n",
       "      <td>2020-11-20</td>\n",
       "      <td>10</td>\n",
       "    </tr>\n",
       "    <tr>\n",
       "      <th>195443</th>\n",
       "      <td>888df25ae3@example.com</td>\n",
       "      <td>2020-12-20</td>\n",
       "      <td>10</td>\n",
       "    </tr>\n",
       "  </tbody>\n",
       "</table>\n",
       "<p>195444 rows × 3 columns</p>\n",
       "</div>"
      ],
      "text/plain": [
       "                         email payment_date  payment_value\n",
       "0       5feceb66ff@example.com   2020-10-01             10\n",
       "1       5feceb66ff@example.com   2020-11-01             10\n",
       "2       5feceb66ff@example.com   2020-12-01             10\n",
       "3       5feceb66ff@example.com   2021-01-01             10\n",
       "4       5feceb66ff@example.com   2021-02-01             10\n",
       "...                        ...          ...            ...\n",
       "195439  9daf56fbee@example.com   2021-06-19            100\n",
       "195440  9daf56fbee@example.com   2021-07-19            100\n",
       "195441  888df25ae3@example.com   2020-10-20             10\n",
       "195442  888df25ae3@example.com   2020-11-20             10\n",
       "195443  888df25ae3@example.com   2020-12-20             10\n",
       "\n",
       "[195444 rows x 3 columns]"
      ]
     },
     "execution_count": 2,
     "metadata": {},
     "output_type": "execute_result"
    }
   ],
   "source": [
    "dataframe"
   ]
  },
  {
   "cell_type": "markdown",
   "metadata": {},
   "source": [
    "Вычислим LTV (по состоянию на февраль) и сравним с реальным."
   ]
  },
  {
   "cell_type": "code",
   "execution_count": 3,
   "metadata": {},
   "outputs": [
    {
     "name": "stdout",
     "output_type": "stream",
     "text": [
      "Реальный LTV: 900.0, оценка: 867.3646054241912.\n"
     ]
    }
   ],
   "source": [
    "# средний платёж\n",
    "mean_payment_estimate = dataframe[dataframe['payment_date'] <= datetime.date(2021, 1, 31)]['payment_value'].mean() \n",
    "mean_payment_real = grades.mean()\n",
    "\n",
    "#количество пользователей в декабре и январе\n",
    "december_users = dataframe[(datetime.date(2020, 12, 1) <= dataframe['payment_date']) & (dataframe['payment_date'] <= datetime.date(2020, 12, 31))]['email'].nunique()\n",
    "january_users = dataframe[(datetime.date(2021, 1, 1) <= dataframe['payment_date']) & (dataframe['payment_date'] <= datetime.date(2021, 1, 31))]['email'].nunique()\n",
    "\n",
    "# отток\n",
    "p_estimate = (december_users - january_users)/december_users \n",
    "\n",
    "# LTV оценка\n",
    "LTV_estimated = mean_payment_estimate / p_estimate\n",
    "\n",
    "# LTV \n",
    "LTV_real = mean_payment_real / p\n",
    "\n",
    "print(f\"Реальный LTV: {LTV_real}, оценка: {LTV_estimated}.\")"
   ]
  },
  {
   "cell_type": "markdown",
   "metadata": {},
   "source": [
    "Рассмотрим ещё одну модель взаимодействия пользователя с сервисом."
   ]
  },
  {
   "cell_type": "markdown",
   "metadata": {},
   "source": [
    "## Модель для сервисов с единовременными платежами"
   ]
  },
  {
   "cell_type": "markdown",
   "metadata": {},
   "source": [
    "В этой модели пользователь совершает несколько платежей с произвольным интервалом между ними и затем прекращает взаимодействие с сервисом. Тогда LTV аналогично предыдущей модели можно вычислить как произведение среднего платежа на среднее количество платежей от пользователя:"
   ]
  },
  {
   "cell_type": "markdown",
   "metadata": {},
   "source": [
    "$$ LTV = average\\_payment \\cdot average\\_payments $$"
   ]
  },
  {
   "cell_type": "markdown",
   "metadata": {},
   "source": [
    "Однако, в отличие от предыдущей модели, хорошую оценку можно получить в этом случае только собрав данные за период равный или больший среднего времени взаимодействия пользователя с сервисом. Интуитивно это следует из того, что в предыдущей модели пользователи сообщают дополнительную информацию самим фактом отписки. Оценим LTV на тех же данных исходя из новой модели. На этот раз получим оценки для нескольких моментов во времени и соответствующего количества собранных данных."
   ]
  },
  {
   "cell_type": "code",
   "execution_count": 4,
   "metadata": {},
   "outputs": [
    {
     "name": "stdout",
     "output_type": "stream",
     "text": [
      "Реальный LTV: 900.0\n",
      "Оценка (4 месяца данных): 165.78900000000002\n",
      "Оценка (1 год данных): 410.035\n",
      "Оценка (3 года данных): 755.536\n",
      "\n"
     ]
    }
   ],
   "source": [
    "four_months_data = dataframe[dataframe['payment_date'] <= datetime.date(2021, 1, 31)]\n",
    "one_year_data = dataframe[dataframe['payment_date'] <= datetime.date(2021, 9, 30)]\n",
    "three_years_data = dataframe[dataframe['payment_date'] <= datetime.date(2023, 10, 31)]\n",
    "\n",
    "# средний платёж\n",
    "mean_payment_estimate_four_months_data = four_months_data['payment_value'].mean() \n",
    "mean_payment_estimate_one_year_data    = one_year_data['payment_value'].mean() \n",
    "mean_payment_estimate_three_years_data = three_years_data['payment_value'].mean() \n",
    "\n",
    "#среднее количество платежей\n",
    "mean_payments_estimate_four_months_data = four_months_data.groupby('email').count()['payment_date'].mean()\n",
    "mean_payments_estimate_one_year_data = one_year_data.groupby('email').count()['payment_date'].mean()\n",
    "mean_payments_estimate_three_years_data = three_years_data.groupby('email').count()['payment_date'].mean()\n",
    "\n",
    "# LTV\n",
    "LTV_four_months_data_estimate = mean_payment_estimate_four_months_data * mean_payments_estimate_four_months_data\n",
    "LTV_one_year_data_estimate = mean_payment_estimate_one_year_data * mean_payments_estimate_one_year_data\n",
    "LTV_three_years_data_estimate = mean_payment_estimate_three_years_data * mean_payments_estimate_three_years_data\n",
    "\n",
    "print(\n",
    "f\"\"\"Реальный LTV: {LTV_real}\n",
    "Оценка (4 месяца данных): {LTV_four_months_data_estimate}\n",
    "Оценка (1 год данных): {LTV_one_year_data_estimate}\n",
    "Оценка (3 года данных): {LTV_three_years_data_estimate}\n",
    "\"\"\")\n"
   ]
  },
  {
   "cell_type": "markdown",
   "metadata": {},
   "source": [
    "## Заключение\n",
    "Общий подход к оценке LTV и вообще любых показателей можно описать такой схемой:\n",
    "- выбор и описание модели (параметры модели и связи между ними, вероятностные или детерминированные, априорные распределения параметров)\n",
    "- получение апостериорных распределений параметров\n",
    "- вычисление необходимых показателей с помощью точечных оценок или методом Монте-Карло"
   ]
  }
 ],
 "metadata": {
  "kernelspec": {
   "display_name": "Python 3",
   "language": "python",
   "name": "python3"
  },
  "language_info": {
   "codemirror_mode": {
    "name": "ipython",
    "version": 3
   },
   "file_extension": ".py",
   "mimetype": "text/x-python",
   "name": "python",
   "nbconvert_exporter": "python",
   "pygments_lexer": "ipython3",
   "version": "3.8.5"
  }
 },
 "nbformat": 4,
 "nbformat_minor": 4
}
